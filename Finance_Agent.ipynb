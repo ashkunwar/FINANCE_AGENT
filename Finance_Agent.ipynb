{
  "nbformat": 4,
  "nbformat_minor": 0,
  "metadata": {
    "colab": {
      "provenance": [],
      "gpuType": "T4"
    },
    "kernelspec": {
      "name": "python3",
      "display_name": "Python 3"
    },
    "language_info": {
      "name": "python"
    },
    "accelerator": "GPU",
    "widgets": {
      "application/vnd.jupyter.widget-state+json": {
        "d7b8d7a381584a6e9629b65d4e57ff50": {
          "model_module": "@jupyter-widgets/output",
          "model_name": "OutputModel",
          "model_module_version": "1.0.0",
          "state": {
            "_dom_classes": [],
            "_model_module": "@jupyter-widgets/output",
            "_model_module_version": "1.0.0",
            "_model_name": "OutputModel",
            "_view_count": null,
            "_view_module": "@jupyter-widgets/output",
            "_view_module_version": "1.0.0",
            "_view_name": "OutputView",
            "layout": "IPY_MODEL_175d365d4ad94c88842e70f8e4316ab2",
            "msg_id": "",
            "outputs": [
              {
                "output_type": "display_data",
                "data": {
                  "text/plain": "\u001b[32m▰▱▱▱▱▱▱\u001b[0m Thinking...\n\u001b[36m┏━\u001b[0m\u001b[36m Message \u001b[0m\u001b[36m━━━━━━━━━━━━━━━━━━━━━━━━━━━━━━━━━━━━━━━━━━━━━━━━━━━━━━━━━━━━━━━━━━━━━━━━━━━━━━━━━━━━━━━━━━━━━━━━━━━━━━\u001b[0m\u001b[36m━┓\u001b[0m\n\u001b[36m┃\u001b[0m                                                                                                                 \u001b[36m┃\u001b[0m\n\u001b[36m┃\u001b[0m \u001b[32mSummarize analyst recommendations and share the latest news for TSLA\u001b[0m                                            \u001b[36m┃\u001b[0m\n\u001b[36m┃\u001b[0m                                                                                                                 \u001b[36m┃\u001b[0m\n\u001b[36m┗━━━━━━━━━━━━━━━━━━━━━━━━━━━━━━━━━━━━━━━━━━━━━━━━━━━━━━━━━━━━━━━━━━━━━━━━━━━━━━━━━━━━━━━━━━━━━━━━━━━━━━━━━━━━━━━━━┛\u001b[0m\n",
                  "text/html": "<pre style=\"white-space:pre;overflow-x:auto;line-height:normal;font-family:Menlo,'DejaVu Sans Mono',consolas,'Courier New',monospace\"><span style=\"color: #008000; text-decoration-color: #008000\">▰▱▱▱▱▱▱</span> Thinking...\n<span style=\"color: #008080; text-decoration-color: #008080\">┏━ Message ━━━━━━━━━━━━━━━━━━━━━━━━━━━━━━━━━━━━━━━━━━━━━━━━━━━━━━━━━━━━━━━━━━━━━━━━━━━━━━━━━━━━━━━━━━━━━━━━━━━━━━━┓</span>\n<span style=\"color: #008080; text-decoration-color: #008080\">┃</span>                                                                                                                 <span style=\"color: #008080; text-decoration-color: #008080\">┃</span>\n<span style=\"color: #008080; text-decoration-color: #008080\">┃</span> <span style=\"color: #008000; text-decoration-color: #008000\">Summarize analyst recommendations and share the latest news for TSLA</span>                                            <span style=\"color: #008080; text-decoration-color: #008080\">┃</span>\n<span style=\"color: #008080; text-decoration-color: #008080\">┃</span>                                                                                                                 <span style=\"color: #008080; text-decoration-color: #008080\">┃</span>\n<span style=\"color: #008080; text-decoration-color: #008080\">┗━━━━━━━━━━━━━━━━━━━━━━━━━━━━━━━━━━━━━━━━━━━━━━━━━━━━━━━━━━━━━━━━━━━━━━━━━━━━━━━━━━━━━━━━━━━━━━━━━━━━━━━━━━━━━━━━━┛</span>\n</pre>\n"
                },
                "metadata": {}
              }
            ]
          }
        },
        "175d365d4ad94c88842e70f8e4316ab2": {
          "model_module": "@jupyter-widgets/base",
          "model_name": "LayoutModel",
          "model_module_version": "1.2.0",
          "state": {
            "_model_module": "@jupyter-widgets/base",
            "_model_module_version": "1.2.0",
            "_model_name": "LayoutModel",
            "_view_count": null,
            "_view_module": "@jupyter-widgets/base",
            "_view_module_version": "1.2.0",
            "_view_name": "LayoutView",
            "align_content": null,
            "align_items": null,
            "align_self": null,
            "border": null,
            "bottom": null,
            "display": null,
            "flex": null,
            "flex_flow": null,
            "grid_area": null,
            "grid_auto_columns": null,
            "grid_auto_flow": null,
            "grid_auto_rows": null,
            "grid_column": null,
            "grid_gap": null,
            "grid_row": null,
            "grid_template_areas": null,
            "grid_template_columns": null,
            "grid_template_rows": null,
            "height": null,
            "justify_content": null,
            "justify_items": null,
            "left": null,
            "margin": null,
            "max_height": null,
            "max_width": null,
            "min_height": null,
            "min_width": null,
            "object_fit": null,
            "object_position": null,
            "order": null,
            "overflow": null,
            "overflow_x": null,
            "overflow_y": null,
            "padding": null,
            "right": null,
            "top": null,
            "visibility": null,
            "width": null
          }
        },
        "ed25fd0fa31c4516895db336147dba3d": {
          "model_module": "@jupyter-widgets/output",
          "model_name": "OutputModel",
          "model_module_version": "1.0.0",
          "state": {
            "_dom_classes": [],
            "_model_module": "@jupyter-widgets/output",
            "_model_module_version": "1.0.0",
            "_model_name": "OutputModel",
            "_view_count": null,
            "_view_module": "@jupyter-widgets/output",
            "_view_module_version": "1.0.0",
            "_view_name": "OutputView",
            "layout": "IPY_MODEL_82e7d402861d47bcbf37569d85671a63",
            "msg_id": "",
            "outputs": [
              {
                "output_type": "display_data",
                "data": {
                  "text/plain": "\u001b[32m▰▰▰▰▰▱▱\u001b[0m Thinking...\n\u001b[36m┏━\u001b[0m\u001b[36m Message \u001b[0m\u001b[36m━━━━━━━━━━━━━━━━━━━━━━━━━━━━━━━━━━━━━━━━━━━━━━━━━━━━━━━━━━━━━━━━━━━━━━━━━━━━━━━━━━━━━━━━━━━━━━━━━━━━━━\u001b[0m\u001b[36m━┓\u001b[0m\n\u001b[36m┃\u001b[0m                                                                                                                 \u001b[36m┃\u001b[0m\n\u001b[36m┃\u001b[0m \u001b[32mFetch stock fundamentals and key financial metrics for TSLA\u001b[0m                                                     \u001b[36m┃\u001b[0m\n\u001b[36m┃\u001b[0m                                                                                                                 \u001b[36m┃\u001b[0m\n\u001b[36m┗━━━━━━━━━━━━━━━━━━━━━━━━━━━━━━━━━━━━━━━━━━━━━━━━━━━━━━━━━━━━━━━━━━━━━━━━━━━━━━━━━━━━━━━━━━━━━━━━━━━━━━━━━━━━━━━━━┛\u001b[0m\n",
                  "text/html": "<pre style=\"white-space:pre;overflow-x:auto;line-height:normal;font-family:Menlo,'DejaVu Sans Mono',consolas,'Courier New',monospace\"><span style=\"color: #008000; text-decoration-color: #008000\">▰▰▰▰▰▱▱</span> Thinking...\n<span style=\"color: #008080; text-decoration-color: #008080\">┏━ Message ━━━━━━━━━━━━━━━━━━━━━━━━━━━━━━━━━━━━━━━━━━━━━━━━━━━━━━━━━━━━━━━━━━━━━━━━━━━━━━━━━━━━━━━━━━━━━━━━━━━━━━━┓</span>\n<span style=\"color: #008080; text-decoration-color: #008080\">┃</span>                                                                                                                 <span style=\"color: #008080; text-decoration-color: #008080\">┃</span>\n<span style=\"color: #008080; text-decoration-color: #008080\">┃</span> <span style=\"color: #008000; text-decoration-color: #008000\">Fetch stock fundamentals and key financial metrics for TSLA</span>                                                     <span style=\"color: #008080; text-decoration-color: #008080\">┃</span>\n<span style=\"color: #008080; text-decoration-color: #008080\">┃</span>                                                                                                                 <span style=\"color: #008080; text-decoration-color: #008080\">┃</span>\n<span style=\"color: #008080; text-decoration-color: #008080\">┗━━━━━━━━━━━━━━━━━━━━━━━━━━━━━━━━━━━━━━━━━━━━━━━━━━━━━━━━━━━━━━━━━━━━━━━━━━━━━━━━━━━━━━━━━━━━━━━━━━━━━━━━━━━━━━━━━┛</span>\n</pre>\n"
                },
                "metadata": {}
              }
            ]
          }
        },
        "82e7d402861d47bcbf37569d85671a63": {
          "model_module": "@jupyter-widgets/base",
          "model_name": "LayoutModel",
          "model_module_version": "1.2.0",
          "state": {
            "_model_module": "@jupyter-widgets/base",
            "_model_module_version": "1.2.0",
            "_model_name": "LayoutModel",
            "_view_count": null,
            "_view_module": "@jupyter-widgets/base",
            "_view_module_version": "1.2.0",
            "_view_name": "LayoutView",
            "align_content": null,
            "align_items": null,
            "align_self": null,
            "border": null,
            "bottom": null,
            "display": null,
            "flex": null,
            "flex_flow": null,
            "grid_area": null,
            "grid_auto_columns": null,
            "grid_auto_flow": null,
            "grid_auto_rows": null,
            "grid_column": null,
            "grid_gap": null,
            "grid_row": null,
            "grid_template_areas": null,
            "grid_template_columns": null,
            "grid_template_rows": null,
            "height": null,
            "justify_content": null,
            "justify_items": null,
            "left": null,
            "margin": null,
            "max_height": null,
            "max_width": null,
            "min_height": null,
            "min_width": null,
            "object_fit": null,
            "object_position": null,
            "order": null,
            "overflow": null,
            "overflow_x": null,
            "overflow_y": null,
            "padding": null,
            "right": null,
            "top": null,
            "visibility": null,
            "width": null
          }
        },
        "4fb96d3b119149b29c5c8e8805e904f9": {
          "model_module": "@jupyter-widgets/output",
          "model_name": "OutputModel",
          "model_module_version": "1.0.0",
          "state": {
            "_dom_classes": [],
            "_model_module": "@jupyter-widgets/output",
            "_model_module_version": "1.0.0",
            "_model_name": "OutputModel",
            "_view_count": null,
            "_view_module": "@jupyter-widgets/output",
            "_view_module_version": "1.0.0",
            "_view_name": "OutputView",
            "layout": "IPY_MODEL_b4c16f5c8fcb43bb92e85f0c1fe5046a",
            "msg_id": "",
            "outputs": [
              {
                "output_type": "display_data",
                "data": {
                  "text/plain": "\u001b[32m▰▰▰▰▰▱▱\u001b[0m Thinking...\n\u001b[36m┏━\u001b[0m\u001b[36m Message \u001b[0m\u001b[36m━━━━━━━━━━━━━━━━━━━━━━━━━━━━━━━━━━━━━━━━━━━━━━━━━━━━━━━━━━━━━━━━━━━━━━━━━━━━━━━━━━━━━━━━━━━━━━━━━━━━━━\u001b[0m\u001b[36m━┓\u001b[0m\n\u001b[36m┃\u001b[0m                                                                                                                 \u001b[36m┃\u001b[0m\n\u001b[36m┃\u001b[0m \u001b[32mFetch historical stock price data for TSLA for the past 6 months\u001b[0m                                                \u001b[36m┃\u001b[0m\n\u001b[36m┃\u001b[0m                                                                                                                 \u001b[36m┃\u001b[0m\n\u001b[36m┗━━━━━━━━━━━━━━━━━━━━━━━━━━━━━━━━━━━━━━━━━━━━━━━━━━━━━━━━━━━━━━━━━━━━━━━━━━━━━━━━━━━━━━━━━━━━━━━━━━━━━━━━━━━━━━━━━┛\u001b[0m\n",
                  "text/html": "<pre style=\"white-space:pre;overflow-x:auto;line-height:normal;font-family:Menlo,'DejaVu Sans Mono',consolas,'Courier New',monospace\"><span style=\"color: #008000; text-decoration-color: #008000\">▰▰▰▰▰▱▱</span> Thinking...\n<span style=\"color: #008080; text-decoration-color: #008080\">┏━ Message ━━━━━━━━━━━━━━━━━━━━━━━━━━━━━━━━━━━━━━━━━━━━━━━━━━━━━━━━━━━━━━━━━━━━━━━━━━━━━━━━━━━━━━━━━━━━━━━━━━━━━━━┓</span>\n<span style=\"color: #008080; text-decoration-color: #008080\">┃</span>                                                                                                                 <span style=\"color: #008080; text-decoration-color: #008080\">┃</span>\n<span style=\"color: #008080; text-decoration-color: #008080\">┃</span> <span style=\"color: #008000; text-decoration-color: #008000\">Fetch historical stock price data for TSLA for the past 6 months</span>                                                <span style=\"color: #008080; text-decoration-color: #008080\">┃</span>\n<span style=\"color: #008080; text-decoration-color: #008080\">┃</span>                                                                                                                 <span style=\"color: #008080; text-decoration-color: #008080\">┃</span>\n<span style=\"color: #008080; text-decoration-color: #008080\">┗━━━━━━━━━━━━━━━━━━━━━━━━━━━━━━━━━━━━━━━━━━━━━━━━━━━━━━━━━━━━━━━━━━━━━━━━━━━━━━━━━━━━━━━━━━━━━━━━━━━━━━━━━━━━━━━━━┛</span>\n</pre>\n"
                },
                "metadata": {}
              }
            ]
          }
        },
        "b4c16f5c8fcb43bb92e85f0c1fe5046a": {
          "model_module": "@jupyter-widgets/base",
          "model_name": "LayoutModel",
          "model_module_version": "1.2.0",
          "state": {
            "_model_module": "@jupyter-widgets/base",
            "_model_module_version": "1.2.0",
            "_model_name": "LayoutModel",
            "_view_count": null,
            "_view_module": "@jupyter-widgets/base",
            "_view_module_version": "1.2.0",
            "_view_name": "LayoutView",
            "align_content": null,
            "align_items": null,
            "align_self": null,
            "border": null,
            "bottom": null,
            "display": null,
            "flex": null,
            "flex_flow": null,
            "grid_area": null,
            "grid_auto_columns": null,
            "grid_auto_flow": null,
            "grid_auto_rows": null,
            "grid_column": null,
            "grid_gap": null,
            "grid_row": null,
            "grid_template_areas": null,
            "grid_template_columns": null,
            "grid_template_rows": null,
            "height": null,
            "justify_content": null,
            "justify_items": null,
            "left": null,
            "margin": null,
            "max_height": null,
            "max_width": null,
            "min_height": null,
            "min_width": null,
            "object_fit": null,
            "object_position": null,
            "order": null,
            "overflow": null,
            "overflow_x": null,
            "overflow_y": null,
            "padding": null,
            "right": null,
            "top": null,
            "visibility": null,
            "width": null
          }
        }
      }
    }
  },
  "cells": [
    {
      "cell_type": "code",
      "execution_count": null,
      "metadata": {
        "collapsed": true,
        "id": "Y2ftbzKEr7lR"
      },
      "outputs": [],
      "source": [
        "# Install required libraries\n",
        "!pip install agno openai newspaper4k duckduckgo-search transformers scikit-learn matplotlib streamlit groq rapidfuzz"
      ]
    },
    {
      "cell_type": "code",
      "source": [
        "from agno.agent import Agent\n",
        "from agno.models.groq import Groq\n",
        "from agno.tools.yfinance import YFinanceTools\n",
        "from agno.tools.duckduckgo import DuckDuckGoTools\n",
        "import groq\n",
        "import os\n",
        "from dotenv import load_dotenv\n",
        "import json\n",
        "import logging\n",
        "from datetime import datetime, timedelta\n",
        "import pandas as pd\n",
        "import matplotlib.pyplot as plt\n",
        "from textblob import TextBlob\n",
        "import yfinance as yf"
      ],
      "metadata": {
        "id": "gjS_1Cu5sBzz"
      },
      "execution_count": 2,
      "outputs": []
    },
    {
      "cell_type": "code",
      "source": [
        "os.environ[\"GROQ_API_KEY\"] = \"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\""
      ],
      "metadata": {
        "id": "NaaOeOQusFun"
      },
      "execution_count": 3,
      "outputs": []
    },
    {
      "cell_type": "code",
      "source": [
        "load_dotenv()\n",
        "groq.api_key = os.getenv(\"GROQ_API_KEY\")"
      ],
      "metadata": {
        "id": "lgHHSwJ7sHy4"
      },
      "execution_count": 4,
      "outputs": []
    },
    {
      "cell_type": "code",
      "source": [
        "web_search_agent = Agent(\n",
        "    name=\"Web Search Agent\",\n",
        "    role=\"Search the web for financial news and information\",\n",
        "    model=Groq(id=\"qwen-2.5-32b\"),\n",
        "    tools=[DuckDuckGoTools()],\n",
        "    instructions=[\"Always include sources\"],\n",
        "    markdown=True,\n",
        ")"
      ],
      "metadata": {
        "id": "18pmGDY4sI0w"
      },
      "execution_count": 5,
      "outputs": []
    },
    {
      "cell_type": "code",
      "source": [
        "finance_agent = Agent(\n",
        "    name=\"Finance AI Agent\",\n",
        "    model=Groq(id=\"qwen-2.5-32b\"),\n",
        "    tools=[\n",
        "        YFinanceTools(\n",
        "            stock_price=True,\n",
        "            analyst_recommendations=True,\n",
        "            stock_fundamentals=True,\n",
        "            company_news=True\n",
        "        ),\n",
        "    ],\n",
        "    instructions=[\"Use tables to display the data\", \"Always include sources\"],\n",
        "    show_tool_calls=True,\n",
        "    markdown=True,\n",
        ")"
      ],
      "metadata": {
        "id": "Zoid4-b5sJuH"
      },
      "execution_count": 6,
      "outputs": []
    },
    {
      "cell_type": "code",
      "source": [
        "multi_ai_agent = Agent(\n",
        "    team=[web_search_agent, finance_agent],\n",
        "    model=Groq(id=\"qwen-2.5-32b\"),\n",
        "    instructions=[\n",
        "        \"Always include sources\",\n",
        "        \"Use tables to display data\",\n",
        "        \"Aggregate results from multiple tools\"\n",
        "    ],\n",
        "    show_tool_calls=True,\n",
        "    markdown=True,\n",
        ")"
      ],
      "metadata": {
        "id": "3uSt_JVCsKtG"
      },
      "execution_count": 7,
      "outputs": []
    },
    {
      "cell_type": "code",
      "source": [
        "ticker_symbol = \"TSLA\""
      ],
      "metadata": {
        "id": "H5MMytb_-PM4"
      },
      "execution_count": 8,
      "outputs": []
    },
    {
      "cell_type": "code",
      "source": [
        "# Step 1: Retrieve analyst recommendations and latest news for the selected company\n",
        "print(f\"=== Analyst Recommendations and Latest News for {ticker_symbol} ===\")\n",
        "response_analyst_news = multi_ai_agent.print_response(\n",
        "    f\"Summarize analyst recommendations and share the latest news for {ticker_symbol}\", stream=False\n",
        ")\n",
        "\n",
        "# Step 2: Get additional stock fundamentals and financial data for the company\n",
        "print(f\"\\n=== Stock Fundamentals and Financial Data for {ticker_symbol} ===\")\n",
        "response_fundamentals = finance_agent.print_response(\n",
        "    f\"Fetch stock fundamentals and key financial metrics for {ticker_symbol}\", stream=False\n",
        ")\n",
        "\n",
        "# Step 3: Retrieve historical price data and plot a price chart\n",
        "print(f\"\\n=== Historical Stock Price Data for {ticker_symbol} ===\")\n",
        "historical_response = finance_agent.print_response(\n",
        "    f\"Fetch historical stock price data for {ticker_symbol} for the past 6 months\", stream=False\n",
        ")\n",
        "\n",
        "# Use yfinance directly to fetch historical data and plot (for reliability)\n",
        "company = yf.Ticker(ticker_symbol)\n",
        "hist_data = company.history(period=\"6mo\")\n",
        "print(hist_data.tail())\n",
        "plt.figure(figsize=(10, 5))\n",
        "plt.plot(hist_data.index, hist_data['Close'], label=f\"{ticker_symbol} Close Price\", color=\"blue\")\n",
        "plt.title(f\"{ticker_symbol} Historical Closing Prices (Last 6 Months)\")\n",
        "plt.xlabel(\"Date\")\n",
        "plt.ylabel(\"Price (USD)\")\n",
        "plt.legend()\n",
        "plt.grid(True)\n",
        "plt.show()"
      ],
      "metadata": {
        "colab": {
          "base_uri": "https://localhost:8080/",
          "height": 1000,
          "referenced_widgets": [
            "d7b8d7a381584a6e9629b65d4e57ff50",
            "175d365d4ad94c88842e70f8e4316ab2",
            "ed25fd0fa31c4516895db336147dba3d",
            "82e7d402861d47bcbf37569d85671a63",
            "4fb96d3b119149b29c5c8e8805e904f9",
            "b4c16f5c8fcb43bb92e85f0c1fe5046a"
          ]
        },
        "id": "ME86GCeSsL6R",
        "outputId": "363d1a85-7718-4451-dbde-8dd10a0e2cd2"
      },
      "execution_count": 9,
      "outputs": [
        {
          "output_type": "stream",
          "name": "stdout",
          "text": [
            "=== Analyst Recommendations and Latest News for TSLA ===\n"
          ]
        },
        {
          "output_type": "display_data",
          "data": {
            "text/plain": [
              "Output()"
            ],
            "application/vnd.jupyter.widget-view+json": {
              "version_major": 2,
              "version_minor": 0,
              "model_id": "d7b8d7a381584a6e9629b65d4e57ff50"
            }
          },
          "metadata": {}
        },
        {
          "output_type": "display_data",
          "data": {
            "text/plain": [],
            "text/html": [
              "<pre style=\"white-space:pre;overflow-x:auto;line-height:normal;font-family:Menlo,'DejaVu Sans Mono',consolas,'Courier New',monospace\"></pre>\n"
            ]
          },
          "metadata": {}
        },
        {
          "output_type": "stream",
          "name": "stdout",
          "text": [
            "\n",
            "=== Stock Fundamentals and Financial Data for TSLA ===\n"
          ]
        },
        {
          "output_type": "display_data",
          "data": {
            "text/plain": [
              "Output()"
            ],
            "application/vnd.jupyter.widget-view+json": {
              "version_major": 2,
              "version_minor": 0,
              "model_id": "ed25fd0fa31c4516895db336147dba3d"
            }
          },
          "metadata": {}
        },
        {
          "output_type": "display_data",
          "data": {
            "text/plain": [],
            "text/html": [
              "<pre style=\"white-space:pre;overflow-x:auto;line-height:normal;font-family:Menlo,'DejaVu Sans Mono',consolas,'Courier New',monospace\"></pre>\n"
            ]
          },
          "metadata": {}
        },
        {
          "output_type": "stream",
          "name": "stdout",
          "text": [
            "\n",
            "=== Historical Stock Price Data for TSLA ===\n"
          ]
        },
        {
          "output_type": "display_data",
          "data": {
            "text/plain": [
              "Output()"
            ],
            "application/vnd.jupyter.widget-view+json": {
              "version_major": 2,
              "version_minor": 0,
              "model_id": "4fb96d3b119149b29c5c8e8805e904f9"
            }
          },
          "metadata": {}
        },
        {
          "output_type": "display_data",
          "data": {
            "text/plain": [],
            "text/html": [
              "<pre style=\"white-space:pre;overflow-x:auto;line-height:normal;font-family:Menlo,'DejaVu Sans Mono',consolas,'Courier New',monospace\"></pre>\n"
            ]
          },
          "metadata": {}
        },
        {
          "output_type": "stream",
          "name": "stdout",
          "text": [
            "                                 Open        High         Low       Close  \\\n",
            "Date                                                                        \n",
            "2025-03-20 00:00:00-04:00  233.350006  238.000000  230.050003  236.259995   \n",
            "2025-03-21 00:00:00-04:00  234.990005  249.520004  234.550003  248.710007   \n",
            "2025-03-24 00:00:00-04:00  258.079987  278.640015  256.329987  278.390015   \n",
            "2025-03-25 00:00:00-04:00  283.600006  288.200012  271.279999  288.140015   \n",
            "2025-03-26 00:00:00-04:00  282.635010  284.899994  269.649994  270.739990   \n",
            "\n",
            "                              Volume  Dividends  Stock Splits  \n",
            "Date                                                           \n",
            "2025-03-20 00:00:00-04:00   99028300        0.0           0.0  \n",
            "2025-03-21 00:00:00-04:00  132728700        0.0           0.0  \n",
            "2025-03-24 00:00:00-04:00  169079900        0.0           0.0  \n",
            "2025-03-25 00:00:00-04:00  149151000        0.0           0.0  \n",
            "2025-03-26 00:00:00-04:00   90023741        0.0           0.0  \n"
          ]
        },
        {
          "output_type": "display_data",
          "data": {
            "text/plain": [
              "<Figure size 1000x500 with 1 Axes>"
            ],
            "image/png": "[encoded data removed]"
          },
          "metadata": {}
        }
      ]
    },
    {
      "cell_type": "code",
      "source": [
        "import yfinance as yf\n",
        "import nltk\n",
        "from transformers import pipeline\n",
        "from rapidfuzz.fuzz import partial_ratio\n",
        "\n",
        "ticker = yf.Ticker(ticker_symbol)\n",
        "company_name = ticker.info.get('longName', ticker_symbol)\n",
        "news_items = ticker.news\n",
        "\n",
        "# Helper function to extract text from the 'content' field.\n",
        "def extract_text(item):\n",
        "    content = item.get('content', '')\n",
        "    if isinstance(content, dict):\n",
        "        return content.get('title', str(content))\n",
        "    elif isinstance(content, str):\n",
        "        return content\n",
        "    else:\n",
        "        return str(content)\n",
        "\n",
        "# Set a threshold for fuzzy matching between the company name and the headline.\n",
        "FUZZY_THRESHOLD = 60\n",
        "\n",
        "# Filter news items using fuzzy matching on the company name or if the ticker symbol is present.\n",
        "filtered_news = []\n",
        "for item in news_items:\n",
        "    text = extract_text(item)\n",
        "    text_lower = text.lower()\n",
        "    ticker_present = ticker_symbol.lower() in text_lower\n",
        "    # Calculate fuzzy similarity between company name and headline.\n",
        "    similarity = partial_ratio(company_name.lower(), text_lower)\n",
        "    if ticker_present or similarity >= FUZZY_THRESHOLD:\n",
        "        filtered_news.append(text)\n",
        "\n",
        "if len(filtered_news) < 5:\n",
        "    for item in news_items:\n",
        "        text = extract_text(item)\n",
        "        if text not in filtered_news:\n",
        "            filtered_news.append(text)\n",
        "        if len(filtered_news) >= 5:\n",
        "            break\n",
        "\n",
        "# Take the top 7 headlines.\n",
        "top_headlines = filtered_news[:7]\n",
        "\n",
        "from transformers import pipeline\n",
        "\n",
        "# Using Twitter-optimized model for headlines sentiment analysis(ROBERTA)\n",
        "sentiment_pipeline = pipeline(\"sentiment-analysis\", model=\"cardiffnlp/twitter-roberta-base-sentiment-latest\")\n",
        "\n",
        "def analyze_headline_sentiment(headlines):\n",
        "    results = []\n",
        "    for headline in headlines:\n",
        "        sentiment = sentiment_pipeline(headline)[0]  # returns a list with one dictionary\n",
        "        results.append({\n",
        "            \"headline\": headline,\n",
        "            \"sentiment\": sentiment['label'],\n",
        "            \"score\": sentiment['score']\n",
        "        })\n",
        "    return pd.DataFrame(results)\n",
        "\n",
        "# --- Sentiment Analysis ---\n",
        "print(f\"\\n=== Sentiment Analysis of Latest {ticker_symbol} News Headlines ===\")\n",
        "sentiment_df = analyze_headline_sentiment(top_headlines)\n",
        "print(sentiment_df.to_markdown(index=False))"
      ],
      "metadata": {
        "colab": {
          "base_uri": "https://localhost:8080/"
        },
        "id": "57Dyh29BsOSP",
        "outputId": "19b230e4-8d36-4781-ceb3-e3a2279d31c2"
      },
      "execution_count": 16,
      "outputs": [
        {
          "output_type": "stream",
          "name": "stderr",
          "text": [
            "Some weights of the model checkpoint at cardiffnlp/twitter-roberta-base-sentiment-latest were not used when initializing RobertaForSequenceClassification: ['roberta.pooler.dense.bias', 'roberta.pooler.dense.weight']\n",
            "- This IS expected if you are initializing RobertaForSequenceClassification from the checkpoint of a model trained on another task or with another architecture (e.g. initializing a BertForSequenceClassification model from a BertForPreTraining model).\n",
            "- This IS NOT expected if you are initializing RobertaForSequenceClassification from the checkpoint of a model that you expect to be exactly identical (initializing a BertForSequenceClassification model from a BertForSequenceClassification model).\n",
            "Device set to use cuda:0\n"
          ]
        },
        {
          "output_type": "stream",
          "name": "stdout",
          "text": [
            "\n",
            "=== Sentiment Analysis of Latest TSLA News Headlines ===\n",
            "| headline                                                               | sentiment   |    score |\n",
            "|:-----------------------------------------------------------------------|:------------|---------:|\n",
            "| Tesla is a 'hopes-and-dreams stock' despite headwinds                  | positive    | 0.60588  |\n",
            "| Can Tesla's reputation be saved? A crisis management expert weighs in. | neutral     | 0.522822 |\n",
            "| Commentary: Trump's plan to save Tesla                                 | neutral     | 0.801265 |\n",
            "| Why Tesla Stock Is Sinking Today                                       | negative    | 0.875062 |\n",
            "| Magnificent Seven Stocks: Nvidia, Tesla Dive                           | positive    | 0.846356 |\n",
            "| Tesla Stock Pares Gains After Best Stretch Since November Election     | positive    | 0.702056 |\n",
            "| Tesla to Launch in Saudi Arabia Amid Global Sales Decline              | neutral     | 0.653073 |\n"
          ]
        }
      ]
    },
    {
      "cell_type": "code",
      "source": [
        "# Get the latest close price of the stock\n",
        "hist_data = ticker.history(period=\"1d\")\n",
        "latest_close_price = hist_data['Close'].iloc[-1]\n",
        "positive_headlines_count = (sentiment_df['sentiment'] == 'positive').sum()\n",
        "\n",
        "summary_data = {\n",
        "    \"Metric\": [\n",
        "        \"Analyst Recommendation\",\n",
        "        \"News Articles Count\",\n",
        "        \"Latest Close Price (USD)\",\n",
        "        \"Positive News Headlines Count\"\n",
        "    ],\n",
        "    \"Value\": [\n",
        "        \"Mixed to Buy\",\n",
        "        f\"{len(top_headlines)}\",\n",
        "        f\"{latest_close_price:.2f}\",\n",
        "        f\"{positive_headlines_count}\"\n",
        "    ]\n",
        "}\n",
        "summary_df = pd.DataFrame(summary_data)\n",
        "\n",
        "print(\"\\n=== Aggregated Summary ===\")\n",
        "print(summary_df.to_markdown(index=False))"
      ],
      "metadata": {
        "colab": {
          "base_uri": "https://localhost:8080/"
        },
        "id": "8f156iIgaalZ",
        "outputId": "362e0794-f3c1-4759-ac79-deabf71fcd2c"
      },
      "execution_count": 11,
      "outputs": [
        {
          "output_type": "stream",
          "name": "stdout",
          "text": [
            "\n",
            "=== Aggregated Summary ===\n",
            "| Metric                        | Value        |\n",
            "|:------------------------------|:-------------|\n",
            "| Analyst Recommendation        | Mixed to Buy |\n",
            "| News Articles Count           | 7            |\n",
            "| Latest Close Price (USD)      | 270.68       |\n",
            "| Positive News Headlines Count | 3            |\n"
          ]
        }
      ]
    },
    {
      "cell_type": "code",
      "source": [
        "print(f\"\\n=== Generating Comprehensive Markdown Report for {ticker_symbol} ===\")\n",
        "report_instruction = (\n",
        "    f\"Generate a comprehensive markdown report for {ticker_symbol} that includes the following sections:\\n\"\n",
        "    \"- Analyst Recommendations and Latest News (with sources)\\n\"\n",
        "    \"- Stock Fundamentals and Financial Data (displayed in tables)\\n\"\n",
        "    \"- Historical Price Data with a chart\\n\"\n",
        "    \"- Sentiment Analysis of Recent News Headlines (with tables)\\n\"\n",
        "    \"- Aggregated Summary of Key Metrics and Insights\\n\"\n",
        "    \"The report should be detailed and include tables, summaries, and insights.\"\n",
        "    \"Ensure that the report is rich in detail and insight, using markdown formatting elements such as headings, subheadings, tables, bullet points, and charts to enhance readability. The final output should be professional and visually engaging.\"\n",
        ")\n",
        "report_content = multi_ai_agent.run(report_instruction, stream=False)\n",
        "from IPython.display import display\n",
        "import ipywidgets as widgets\n",
        "from IPython.display import Markdown, display\n",
        "report_text = report_content.content if hasattr(report_content, \"content\") else str(report_content)\n",
        "display(Markdown(report_text))"
      ],
      "metadata": {
        "colab": {
          "base_uri": "https://localhost:8080/",
          "height": 1000
        },
        "id": "zHv9QE-DsWHC",
        "outputId": "41209ecf-b4eb-41d8-df4d-06fb332d690b"
      },
      "execution_count": 15,
      "outputs": [
        {
          "output_type": "stream",
          "name": "stdout",
          "text": [
            "\n",
            "=== Generating Comprehensive Markdown Report for TSLA ===\n"
          ]
        },
        {
          "output_type": "display_data",
          "data": {
            "text/plain": [
              "<IPython.core.display.Markdown object>"
            ],
            "text/markdown": "### Tesla, Inc. (TSLA) Comprehensive Report\n\n#### 1. Analyst Recommendations\nThe following table summarizes the analyst recommendations for TSLA over the past few months.\n\n| Period (in months) | Strong Buy | Buy | Hold | Sell | Strong Sell |\n|-------------------|------------|-----|------|------|-------------|\n| 0                 | 7          | 16  | 14   | 9    | 2           |\n| -1                | 7          | 14  | 15   | 9    | 3           |\n| -2                | 7          | 13  | 15   | 8    | 4           |\n| -3                | 7          | 13  | 15   | 8    | 5           |\n\n_Source: [get_analyst_recommendations]_\n\n#### 2. Latest News & Analysis\n\n**News Aggregator:**\n\n1. **Source**: Electrek  \n   **Title**: Elon tells Tesla employees not to sell TSLA stock as board and execs are dumping  \n   **Body**: At an all-hands meeting last night, Elon Musk stood before Tesla employees and told them to \"hang on to their TSLA stocks\" as Tesla board members and top executives are dumping their shares amid a 40% crash.  \n   **URL**: [Electrek - Elon tells Tesla employees not to sell TSLA stocks as board ...](https://electrek.co/2025/03/21/elon-tells-tesla-employees-not-to-sell-tsla-stocks-board-execs-are-dumping/)\n\n2. **Source**: Yahoo Finance  \n   **Title**: Tesla (TSLA)'s AI Future in Focus as Analysts Debate Stock Outlook  \n   **Body**: In this article, we are going to take a look at where Tesla, Inc. (NASDAQ:TSLA) stands in the universe of stocks. ... Week and 12 AI Stocks Making Headlines: Latest News and Ratings. \"The old ways of...  \n   **URL**: [Yahoo Finance - Tesla (TSLA)'s AI Future in Focus as Analysts Debate ...](https://finance.yahoo.com/news/tesla-tsla-ai-future-focus-161730193.html)\n\n3. **Source**: Yahoo Finance  \n   **Title**: Delaware passes law designed to stop more Elon Musks from leaving state  \n   **URL**: [Yahoo Finance](https://finance.yahoo.com/news/delaware-passes-law-designed-to-stop-more-elon-musks-from-leaving-state-164403802.html)\n\n4. **Source**: Yahoo Finance  \n   **Title**: Tesla is a 'hopes-and-dreams stock' despite headwinds  \n   **URL**: [Yahoo Finance](https://finance.yahoo.com/video/tesla-is-a-hopes-and-dreams-stock-despite-headwinds-150904988.html)\n\n5. **Source**: Yahoo Finance  \n   **Title**: Commentary: Trump's plan to save Tesla  \n   **URL**: [Yahoo Finance](https://finance.yahoo.com/news/commentary-trumps-plan-save-tesla-185155511.html)\n\n6. **Source**: Yahoo Finance  \n   **Title**: Musk is back in the building: Why Tesla's 'hopes and dreams' stock is soaring  \n   **URL**: [Yahoo Finance](https://finance.yahoo.com/video/musk-back-building-whats-145128924.html)\n\n7. **Source**: Yahoo Finance  \n   **Title**: What's happening with Tesla today: A look into the day's Tesla stories  \n   **URL**: [Yahoo Finance](https://finance.yahoo.com/video/whats-happening-tesla-today-135236135.html)\n\n### 3. Stock Fundamentals and Financial Data\n\n| Metric              | Value              |\n|--------------------|--------------------|\n| Stock Symbol        | TSLA               |\n| Company Name        | Tesla, Inc.        |\n| Sector              | Consumer Cyclical   |\n| Industry            | Auto Manufacturers |\n| Market Cap (USD)     | 869.99B            |\n| Price-to-Earnings     | 83.48              |\n| Price-to-Book        | 11.93              |\n| EPS (TTM)           | 2.05               |\n| Beta                | 2.51               |\n| 52-Week High (USD)   | 488.54             |\n| 52-Week Low (USD)    | 138.80             |\n\n_Source: [get_stock_fundamentals]_\n\n### 4. Historical Price Data\n\nYou can find the historical price data for TSLA with a chart on the following websites:\n\n- [Yahoo Finance - Tesla, Inc. (TSLA) Stock Historical Prices & Data](https://finance.yahoo.com/quote/TSLA/history/)\n- [MacroTrends - Tesla - 15 Year Stock Price History | TSLA](https://www.macrotrends.net/stocks/charts/TSLA/tesla/stock-price-history)\n- [Investing.com - Tesla Stock Price History](https://www.investing.com/equities/tesla-motors-historical-data)\n\n### 5. Sentiment Analysis of Recent News Headlines\n\n| Headline                                                                                                                                                                          | Sentiment   |\n|-------------------------------------------------------------------------------------------------------------------------------------------------------------------------------|------------|\n| Delaware passes law designed to stop more Elon Musks from leaving state                                                                                                           | Neutral     |\n| Tesla is a 'hopes-and-dreams stock' despite headwinds                                                                                                                              | Positive    |\n| Commentary: Trump's plan to save Tesla                                                                                                                                             | Neutral     |\n| Musk is back in the building: Why Tesla's 'hopes and dreams' stock is soaring                                                                                                      | Positive    |\n| What's happening with Tesla today: A look into the day's Tesla stories                                                                                                           | Neutral     |\n\n_Note: Sentiment scores were inferred based on the context of the content in the headlines._\n\n_Source: [Manual Inference]_\n\n### 6. Aggregated Summary of Key Metrics and Insights\nTesla continues to attract significant attention from both analysts and the media. Recent news suggests a mix of positive and neutral sentiments, with a particularly notable incident regarding the internal communication of Tesla management with employees during a period of stock selloff. Analysts have consistently maintained a strong buy interest based on the recent reports. The stock fundamentals show a high market capitalization and a reasonable P/E ratio. However, the high price-to-book ratio may indicate overvaluation relative to the book value. The recent market sentiment is somewhat cautious, but supportive, indicating the stock has a mix of challenges and opportunities.\n\n_Important: This report is based on current data and analyses of the provided sources. Consult with a financial advisor before making any investment decisions._\n\n### Sources\n- [get_analyst_recommendations]\n- [get_company_news]\n- [get_stock_fundamentals]\n- [Manual Inference]\n- Web Search: Yahoo Finance, Electrek, MacroTrends\n  \n_View more news and analysis: [Yahoo Finance Tesla Page](https://finance.yahoo.com/quote/TSLA/)\n_View historical data: [Yahoo Finance TSLA History](https://finance.yahoo.com/quote/TSLA/history/)_\n\nPlease visit the links provided for a more detailed view of the historical stock prices and to explore more information on each headline. This report provides a snapshot of Tesla's recent performance, news, and financial data. For more detailed insights, the sources and links shared can be helpful."
          },
          "metadata": {}
        }
      ]
    },
    {
      "cell_type": "code",
      "source": [],
      "metadata": {
        "id": "-J2Hu_VNscWM"
      },
      "execution_count": 16,
      "outputs": []
    }
  ]
}